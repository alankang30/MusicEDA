{
 "cells": [
  {
   "cell_type": "markdown",
   "id": "4a273c37",
   "metadata": {},
   "source": [
    "Load data from 'Billboard Hot 100 Number Ones Database'\n",
    "\n",
    "\n"
   ]
  },
  {
   "cell_type": "code",
   "execution_count": null,
   "id": "112aed12",
   "metadata": {},
   "outputs": [],
   "source": [
    "import pandas as pd \n",
    "import numpy as np \n",
    "import sklearn # scikit-learn\n",
    "import plotnine\n",
    "import statsmodels.api as sm\n",
    "import statsmodels.formula.api as smf\n",
    "\n",
    "\n",
    "df = pd.read_excel('./Billboard Hot 100 Number Ones Database.xlsx')\n",
    "\n",
    "\n"
   ]
  },
  {
   "cell_type": "markdown",
   "id": "0371ebe8",
   "metadata": {},
   "source": [
    "# The Basics\n",
    "Let's answer some easy questions first, such as:\n",
    "\n",
    "### How have Billboard listeners' tastes changed over the past 70 years?\n",
    "In terms of genre?"
   ]
  },
  {
   "cell_type": "code",
   "execution_count": null,
   "id": "57010bd0",
   "metadata": {},
   "outputs": [],
   "source": []
  },
  {
   "cell_type": "markdown",
   "id": "75a7c6d5",
   "metadata": {},
   "source": [
    "In terms of genre?\n"
   ]
  },
  {
   "cell_type": "code",
   "execution_count": null,
   "id": "ccc8e3db",
   "metadata": {},
   "outputs": [],
   "source": []
  },
  {
   "cell_type": "markdown",
   "id": "1f1161d8",
   "metadata": {},
   "source": [
    "# Saket's section\n",
    "\n",
    "### For artists who have only had one Billboard number one, what sets their hit apart from the rest of their discography?\n"
   ]
  },
  {
   "cell_type": "code",
   "execution_count": null,
   "id": "ec16594b",
   "metadata": {},
   "outputs": [],
   "source": [
    "# saket code. add more cells below if needed"
   ]
  },
  {
   "cell_type": "markdown",
   "id": "9ef1639a",
   "metadata": {},
   "source": [
    "### Another Saket question that he wants to answer?\n"
   ]
  },
  {
   "cell_type": "code",
   "execution_count": null,
   "id": "909b73bb",
   "metadata": {},
   "outputs": [],
   "source": [
    "#more code"
   ]
  },
  {
   "cell_type": "markdown",
   "id": "af4bbf75",
   "metadata": {},
   "source": [
    "# Alan's Section\n",
    "\n",
    "### some big question here?\n",
    "\n"
   ]
  },
  {
   "cell_type": "code",
   "execution_count": null,
   "id": "53a3806c",
   "metadata": {},
   "outputs": [],
   "source": []
  }
 ],
 "metadata": {
  "kernelspec": {
   "display_name": ".venv",
   "language": "python",
   "name": "python3"
  },
  "language_info": {
   "name": "python",
   "version": "3.13.7"
  }
 },
 "nbformat": 4,
 "nbformat_minor": 5
}
